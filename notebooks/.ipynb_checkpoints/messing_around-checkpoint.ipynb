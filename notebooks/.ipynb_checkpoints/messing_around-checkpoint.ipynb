{
 "cells": [
  {
   "cell_type": "code",
   "execution_count": 815,
   "metadata": {},
   "outputs": [],
   "source": [
    "from sklearn.model_selection import train_test_split, cross_val_score\n",
    "from sklearn.feature_extraction.text import CountVectorizer\n",
    "import numpy as np\n",
    "from sklearn.ensemble import RandomForestClassifier\n",
    "from nltk.tokenize import RegexpTokenizer\n",
    "from sklearn.feature_extraction.text import TfidfVectorizer\n",
    "from word2number import w2n\n",
    "from sklearn.metrics import f1_score, multilabel_confusion_matrix\n",
    "from nltk.corpus import stopwords\n",
    "from nltk.stem import WordNetLemmatizer"
   ]
  },
  {
   "cell_type": "code",
   "execution_count": 710,
   "metadata": {},
   "outputs": [],
   "source": [
    "import spacy\n",
    "import en_core_web_sm\n",
    "nlp = spacy.load('en')"
   ]
  },
  {
   "cell_type": "code",
   "execution_count": 759,
   "metadata": {},
   "outputs": [
    {
     "data": {
      "text/plain": [
       "['peter', 'u', 'better', 'get', 'ur', 'as', 'over', 'here']"
      ]
     },
     "execution_count": 759,
     "metadata": {},
     "output_type": "execute_result"
    }
   ],
   "source": [
    "tokenizer = RegexpTokenizer(\"[^;\\s.?,!()]+\\.c|[^;\\s.,?!()]+\\.py|[^;\\s.?!(),]+\\(\\)|[^;\\s.?,!()]+\")\n",
    "sentence = tokenizer.tokenize(\"Peter u better get ur ass over here\".lower())\n",
    "[WordNetLemmatizer().lemmatize(word) for word in sentence]"
   ]
  },
  {
   "cell_type": "code",
   "execution_count": 895,
   "metadata": {},
   "outputs": [],
   "source": [
    "def load_data(filename, label_name):\n",
    "    with open(filename, 'r') as f:\n",
    "        return [[eval(data_point)['question'], eval(data_point)[label_name]] for data_point in f.read().splitlines() if label_name in eval(data_point)]\n",
    "\n",
    "def is_TA_or_instructor_name(text):\n",
    "    names = {\"adam\", \"victor\", \"jesse\", \"peter\"}\n",
    "    \n",
    "    if text in names:\n",
    "        return True\n",
    "    else:\n",
    "        return False\n",
    "    \n",
    "def is_spelled_out_number(text):\n",
    "    try:\n",
    "        w2n.word_to_num(text)\n",
    "        return True\n",
    "    except ValueError:\n",
    "        return False\n",
    "    \n",
    "def is_function(text): # change to regex\n",
    "    if '()' in text:\n",
    "        return True\n",
    "    else:\n",
    "        return False\n",
    "\n",
    "def is_snake_case(text): # change to regex\n",
    "    if '_' in text:\n",
    "        return True\n",
    "    else:\n",
    "        return False\n",
    "\n",
    "def is_filename(text):\n",
    "    if '.c' in text or '.py' in text:\n",
    "        return True\n",
    "    else:\n",
    "        return False\n",
    "    \n",
    "def preprocess_sentence(sentence):\n",
    "    tokenizer = RegexpTokenizer(\"[^;\\s.?,!()]+\\.c|[^;\\s.,?!()]+\\.py|[^;\\s.?!(),]+\\(\\)|[^;\\s.?,!()]+\")\n",
    "    sentence = tokenizer.tokenize(sentence.lower())\n",
    "    \n",
    "    for i in range(len(sentence)):\n",
    "        if sentence[i].isnumeric():\n",
    "            sentence[i] = \"numericnumber\"\n",
    "        elif is_spelled_out_number(sentence[i]):\n",
    "            sentence[i] = \"nonnumericnumber\"\n",
    "#         elif is_function(sentence[i]):\n",
    "#             sentence[i] = \"function\"\n",
    "        elif is_filename(sentence[i]):\n",
    "            sentence[i] = \"filename\"\n",
    "#         elif is_snake_case(sentence[i]):\n",
    "#             sentence[i] = \"snakecase\"\n",
    "        elif is_TA_or_instructor_name(sentence[i]):\n",
    "            sentence[i] = \"name\"\n",
    "        \n",
    "    \n",
    "    return ' '.join(sentence)\n",
    "\n",
    "from sklearn.base import BaseEstimator, TransformerMixin\n",
    "\n",
    "class questionLengthExtractor(BaseEstimator, TransformerMixin):\n",
    "\n",
    "    def __init__(self):\n",
    "        pass\n",
    "\n",
    "    def transform(self, X, y=None):\n",
    "        return [[len(sentence.split())] for sentence in X]\n",
    "\n",
    "    def fit(self, X, y=None):\n",
    "        return self \n",
    "    \n",
    "def preprocess_data(x_data, vectorizer=None):\n",
    "    sentence_lens = [[len(sentence.split())] for sentence in x_data]\n",
    "#     processed_x_data = [preprocess_sentence(sentence) for sentence in x_data]\n",
    "    processed_x_data = x_data\n",
    "    X = None\n",
    "\n",
    "    if vectorizer:\n",
    "        X = vectorizer.transform(processed_x_data)\n",
    "    else:\n",
    "        vectorizer = CountVectorizer(preprocessor=preprocess_sentence)\n",
    "#         vectorizer = TfidfVectorizer(preprocessor=preprocess_sentence)\n",
    "        X = vectorizer.fit_transform(processed_x_data)\n",
    "        \n",
    "    X = np.hstack((X.toarray(), sentence_lens))\n",
    "    \n",
    "    return X, vectorizer\n",
    "\n",
    "def prepare_y_binary(y_data, true):\n",
    "    return [1 if label == true else 0 for label in y_data]\n"
   ]
  },
  {
   "cell_type": "code",
   "execution_count": 854,
   "metadata": {},
   "outputs": [],
   "source": [
    "# tokenizer = RegexpTokenizer(\"[^;\\s.?,!()]+\\.c|[^;\\s.,?!()]+\\.py|[^;\\s.?!(),]+\\(\\)|[^;\\s.?,!()]+\")\n",
    "\n",
    "preprocess_sentence(\"I don't know what's wrong...\")\n",
    "from sklearn.naive_bayes import MultinomialNB"
   ]
  },
  {
   "cell_type": "code",
   "execution_count": 904,
   "metadata": {},
   "outputs": [],
   "source": [
    "# data = np.array(load_data('../data/questions.json', 'question_type'))\n",
    "data = np.array(load_data('../data/questions.json', 'actual_question'))\n",
    "train_data, test_data = train_test_split(data)"
   ]
  },
  {
   "cell_type": "code",
   "execution_count": 905,
   "metadata": {},
   "outputs": [
    {
     "data": {
      "text/plain": [
       "RandomForestClassifier(bootstrap=True, ccp_alpha=0.0, class_weight=None,\n",
       "                       criterion='gini', max_depth=None, max_features='auto',\n",
       "                       max_leaf_nodes=None, max_samples=None,\n",
       "                       min_impurity_decrease=0.0, min_impurity_split=None,\n",
       "                       min_samples_leaf=1, min_samples_split=2,\n",
       "                       min_weight_fraction_leaf=0.0, n_estimators=100,\n",
       "                       n_jobs=None, oob_score=False, random_state=None,\n",
       "                       verbose=0, warm_start=False)"
      ]
     },
     "execution_count": 905,
     "metadata": {},
     "output_type": "execute_result"
    }
   ],
   "source": [
    "X, vectorizer = preprocess_data(train_data[:,0])\n",
    "clf = RandomForestClassifier()\n",
    "# clf = MultinomialNB()\n",
    "y = train_data[:,1]\n",
    "# y = prepare_y_binary(train_data[:,1], 't')\n",
    "clf.fit(X, y)"
   ]
  },
  {
   "cell_type": "code",
   "execution_count": 906,
   "metadata": {},
   "outputs": [
    {
     "data": {
      "text/plain": [
       "(0.9818181818181818, 1.0, 0.9433962264150944)"
      ]
     },
     "execution_count": 906,
     "metadata": {},
     "output_type": "execute_result"
    }
   ],
   "source": [
    "X_test, _ = preprocess_data(test_data[:,0], vectorizer)\n",
    "y_preds = clf.predict(X_test)\n",
    "y_test = test_data[:,1]\n",
    "# y_test = prepare_y_binary(test_data[:,1], 't')\n",
    "cross_val_score(clf, X_test, y_test).mean(), sum(clf.predict(X) == y) / len(y), sum(y_preds == y_test) / len(y_preds)"
   ]
  },
  {
   "cell_type": "code",
   "execution_count": 907,
   "metadata": {},
   "outputs": [
    {
     "name": "stdout",
     "output_type": "stream",
     "text": [
      "Question: Hello my name is , Prediction: , Actual: 0.64\n",
      "Question: StackOverflowError in DFS, Prediction: , Actual: 0.5\n",
      "Question: ooops we have a problem , Prediction: , Actual: 0.6\n"
     ]
    }
   ],
   "source": [
    "for i in range(len(y_preds)):\n",
    "    if y_preds[i] != y_test[i]:\n",
    "        print(\"Question: {}, Prediction: , Actual: {}\".format(test_data[:,0][i], clf.predict_proba([X_test[i]])[0][1], y_test[i]))"
   ]
  },
  {
   "cell_type": "code",
   "execution_count": 882,
   "metadata": {},
   "outputs": [
    {
     "data": {
      "text/plain": [
       "array(['f', 't'], dtype='<U597')"
      ]
     },
     "execution_count": 882,
     "metadata": {},
     "output_type": "execute_result"
    }
   ],
   "source": []
  },
  {
   "cell_type": "code",
   "execution_count": 121,
   "metadata": {},
   "outputs": [],
   "source": [
    "stop_words = stopwords.words('english')"
   ]
  },
  {
   "cell_type": "code",
   "execution_count": 133,
   "metadata": {},
   "outputs": [
    {
     "name": "stdout",
     "output_type": "stream",
     "text": [
      "couldnt\n",
      "solve\n",
      "filenotfound\n",
      "error?\n"
     ]
    }
   ],
   "source": [
    "for word in \"I couldnt solve the FileNotFound Error?\".lower().split():\n",
    "    if word not in stop_words:\n",
    "        print(word)"
   ]
  },
  {
   "cell_type": "code",
   "execution_count": 144,
   "metadata": {},
   "outputs": [
    {
     "data": {
      "text/plain": [
       "['i',\n",
       " 'me',\n",
       " 'my',\n",
       " 'myself',\n",
       " 'we',\n",
       " 'our',\n",
       " 'ours',\n",
       " 'ourselves',\n",
       " 'you',\n",
       " \"you're\",\n",
       " \"you've\",\n",
       " \"you'll\",\n",
       " \"you'd\",\n",
       " 'your',\n",
       " 'yours',\n",
       " 'yourself',\n",
       " 'yourselves',\n",
       " 'he',\n",
       " 'him',\n",
       " 'his',\n",
       " 'himself',\n",
       " 'she',\n",
       " \"she's\",\n",
       " 'her',\n",
       " 'hers',\n",
       " 'herself',\n",
       " 'it',\n",
       " \"it's\",\n",
       " 'its',\n",
       " 'itself',\n",
       " 'they',\n",
       " 'them',\n",
       " 'their',\n",
       " 'theirs',\n",
       " 'themselves',\n",
       " 'what',\n",
       " 'which',\n",
       " 'who',\n",
       " 'whom',\n",
       " 'this',\n",
       " 'that',\n",
       " \"that'll\",\n",
       " 'these',\n",
       " 'those',\n",
       " 'am',\n",
       " 'is',\n",
       " 'are',\n",
       " 'was',\n",
       " 'were',\n",
       " 'be',\n",
       " 'been',\n",
       " 'being',\n",
       " 'have',\n",
       " 'has',\n",
       " 'had',\n",
       " 'having',\n",
       " 'do',\n",
       " 'does',\n",
       " 'did',\n",
       " 'doing',\n",
       " 'a',\n",
       " 'an',\n",
       " 'the',\n",
       " 'and',\n",
       " 'but',\n",
       " 'if',\n",
       " 'or',\n",
       " 'because',\n",
       " 'as',\n",
       " 'until',\n",
       " 'while',\n",
       " 'of',\n",
       " 'at',\n",
       " 'by',\n",
       " 'for',\n",
       " 'with',\n",
       " 'about',\n",
       " 'against',\n",
       " 'between',\n",
       " 'into',\n",
       " 'through',\n",
       " 'during',\n",
       " 'before',\n",
       " 'after',\n",
       " 'above',\n",
       " 'below',\n",
       " 'to',\n",
       " 'from',\n",
       " 'up',\n",
       " 'down',\n",
       " 'in',\n",
       " 'out',\n",
       " 'on',\n",
       " 'off',\n",
       " 'over',\n",
       " 'under',\n",
       " 'again',\n",
       " 'further',\n",
       " 'then',\n",
       " 'once',\n",
       " 'here',\n",
       " 'there',\n",
       " 'when',\n",
       " 'where',\n",
       " 'why',\n",
       " 'how',\n",
       " 'all',\n",
       " 'any',\n",
       " 'both',\n",
       " 'each',\n",
       " 'few',\n",
       " 'more',\n",
       " 'most',\n",
       " 'other',\n",
       " 'some',\n",
       " 'such',\n",
       " 'no',\n",
       " 'nor',\n",
       " 'not',\n",
       " 'only',\n",
       " 'own',\n",
       " 'same',\n",
       " 'so',\n",
       " 'than',\n",
       " 'too',\n",
       " 'very',\n",
       " 's',\n",
       " 't',\n",
       " 'can',\n",
       " 'will',\n",
       " 'just',\n",
       " 'don',\n",
       " \"don't\",\n",
       " 'should',\n",
       " \"should've\",\n",
       " 'now',\n",
       " 'd',\n",
       " 'll',\n",
       " 'm',\n",
       " 'o',\n",
       " 're',\n",
       " 've',\n",
       " 'y',\n",
       " 'ain',\n",
       " 'aren',\n",
       " \"aren't\",\n",
       " 'couldn',\n",
       " \"couldn't\",\n",
       " 'didn',\n",
       " \"didn't\",\n",
       " 'doesn',\n",
       " \"doesn't\",\n",
       " 'hadn',\n",
       " \"hadn't\",\n",
       " 'hasn',\n",
       " \"hasn't\",\n",
       " 'haven',\n",
       " \"haven't\",\n",
       " 'isn',\n",
       " \"isn't\",\n",
       " 'ma',\n",
       " 'mightn',\n",
       " \"mightn't\",\n",
       " 'mustn',\n",
       " \"mustn't\",\n",
       " 'needn',\n",
       " \"needn't\",\n",
       " 'shan',\n",
       " \"shan't\",\n",
       " 'shouldn',\n",
       " \"shouldn't\",\n",
       " 'wasn',\n",
       " \"wasn't\",\n",
       " 'weren',\n",
       " \"weren't\",\n",
       " 'won',\n",
       " \"won't\",\n",
       " 'wouldn',\n",
       " \"wouldn't\"]"
      ]
     },
     "execution_count": 144,
     "metadata": {},
     "output_type": "execute_result"
    }
   ],
   "source": [
    "stop_words"
   ]
  },
  {
   "cell_type": "code",
   "execution_count": null,
   "metadata": {},
   "outputs": [],
   "source": []
  }
 ],
 "metadata": {
  "kernelspec": {
   "display_name": "Python 3",
   "language": "python",
   "name": "python3"
  },
  "language_info": {
   "codemirror_mode": {
    "name": "ipython",
    "version": 3
   },
   "file_extension": ".py",
   "mimetype": "text/x-python",
   "name": "python",
   "nbconvert_exporter": "python",
   "pygments_lexer": "ipython3",
   "version": "3.7.6"
  }
 },
 "nbformat": 4,
 "nbformat_minor": 4
}
