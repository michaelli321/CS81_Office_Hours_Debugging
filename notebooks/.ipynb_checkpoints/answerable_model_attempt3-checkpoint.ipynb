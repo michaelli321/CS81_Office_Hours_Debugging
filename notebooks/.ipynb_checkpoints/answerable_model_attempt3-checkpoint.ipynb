{
 "cells": [
  {
   "cell_type": "code",
   "execution_count": 1,
   "metadata": {},
   "outputs": [],
   "source": [
    "import sys\n",
    "import os\n",
    "sys.path.insert(0, os.path.normpath(os.getcwd() + os.sep + os.pardir))"
   ]
  },
  {
   "cell_type": "code",
   "execution_count": 635,
   "metadata": {},
   "outputs": [],
   "source": [
    "import utils\n",
    "import numpy as np\n",
    "import matplotlib.pyplot as plt\n",
    "import seaborn as sn\n",
    "from sklearn.svm import SVC\n",
    "from sklearn.pipeline import Pipeline, FeatureUnion\n",
    "from sklearn.tree import DecisionTreeClassifier\n",
    "from sklearn.feature_extraction.text import CountVectorizer, TfidfVectorizer\n",
    "from sklearn.ensemble import RandomForestClassifier\n",
    "from sklearn.linear_model import LogisticRegression, LinearRegression, Perceptron\n",
    "from sklearn.naive_bayes import MultinomialNB\n",
    "from sklearn.model_selection import cross_val_score, RandomizedSearchCV, GridSearchCV, cross_val_predict\n",
    "from sklearn.base import BaseEstimator, TransformerMixin\n",
    "from nltk import word_tokenize\n",
    "from nltk.corpus import stopwords\n",
    "import pandas as pd\n",
    "from sklearn.metrics import precision_score, recall_score, f1_score, make_scorer, roc_auc_score, confusion_matrix, SCORERS\n",
    "from model_training import WordCountTransformer, CharacterCountTransformer, StopWordFrequency\n",
    "from sklearn.neighbors import KNeighborsClassifier\n",
    "\n",
    "stop_words = set(stopwords.words('English'))"
   ]
  },
  {
   "cell_type": "code",
   "execution_count": 253,
   "metadata": {},
   "outputs": [],
   "source": [
    "answerable_data = utils.load_data('../data/aqfiltered.json', 'answerable')"
   ]
  },
  {
   "cell_type": "markdown",
   "metadata": {},
   "source": [
    "<h3>T - Is it a clear question/Is there enough information for TA to understand what is happening?</h3> <br />\n",
    "<h3>F - It is not a clear question, does not provide enough information, or simply asks for answer</h3> <br />\n",
    "<h3>C - Anything that indicates the student is confused and cannot provide any more detail. \"help explaining general thing\"</h3>"
   ]
  },
  {
   "cell_type": "code",
   "execution_count": 261,
   "metadata": {},
   "outputs": [],
   "source": [
    "def answerable_preprocessor(sentence):\n",
    "    sentence = utils.check_quotations(sentence)\n",
    "    sentence = word_tokenize(sentence)\n",
    "    \n",
    "    for i in range(len(sentence)):\n",
    "#         sentence[i] = utils.check_camel_snakecase(sentence[i])\n",
    "        sentence[i] = sentence[i].lower()\n",
    "        \n",
    "#         if sentence[i] in stop_words and sentence[i] not in ['who', 'what', 'when', 'where', 'why', 'how']:\n",
    "#             sentence[i] = \"\"\n",
    "#         if sentence[i].isnumeric():\n",
    "#             sentence[i] = \"numericnumber\"\n",
    "#         elif utils.is_spelled_out_number(sentence[i]):\n",
    "#             sentence[i] = \"nonnumericnumber\"\n",
    "#         elif utils.is_TA_or_instructor_name(sentence[i]):\n",
    "#             sentence[i] = \"name\"\n",
    "#         elif utils.is_error_code(sentence[i]):\n",
    "#             sentence[i] = \"errorcode\"\n",
    "#         elif utils.is_system_word(sentence[i]):\n",
    "#             sentence[i] = \"sys\"\n",
    "#         elif utils.is_function(sentence[i]):\n",
    "#             sentence[i] = \"func\"\n",
    "\n",
    "    return ' '.join(sentence)"
   ]
  },
  {
   "cell_type": "code",
   "execution_count": 510,
   "metadata": {},
   "outputs": [],
   "source": [
    "def partition_data(data, label):\n",
    "    cpy = data.copy()\n",
    "    \n",
    "    for i in range(len(data)):\n",
    "        if data[i][1] == label:\n",
    "            cpy[i][1] = 1\n",
    "        else:\n",
    "            cpy[i][1] = 0\n",
    "    \n",
    "    return cpy"
   ]
  },
  {
   "cell_type": "code",
   "execution_count": 513,
   "metadata": {},
   "outputs": [],
   "source": [
    "t_data = partition_data(answerable_data, 't')\n",
    "c_data = partition_data(answerable_data, 'c')\n",
    "f_data = partition_data(answerable_data, 'f')"
   ]
  },
  {
   "cell_type": "code",
   "execution_count": 515,
   "metadata": {},
   "outputs": [
    {
     "name": "stdout",
     "output_type": "stream",
     "text": [
      "SVM\n",
      "Accuracy: 0.7355555555555554\n",
      "Accuracy: 0.7713131313131312\n",
      "Accuracy: 0.7217171717171718\n",
      "\n",
      "Random Forest\n",
      "Accuracy: 0.748989898989899\n",
      "Accuracy: 0.7802020202020202\n",
      "Accuracy: 0.7441414141414141\n",
      "\n",
      "Naive Bayes\n",
      "Accuracy: 0.7177777777777778\n",
      "Accuracy: 0.7668686868686867\n",
      "Accuracy: 0.712929292929293\n",
      "\n",
      "Logistic Regression\n",
      "Accuracy: 0.7310101010101009\n",
      "Accuracy: 0.7668686868686867\n",
      "Accuracy: 0.6994949494949494\n",
      "\n"
     ]
    }
   ],
   "source": [
    "for model in models:\n",
    "    pipeline = Pipeline([\n",
    "        ('features', FeatureUnion([\n",
    "            ('ngram', TfidfVectorizer(preprocessor=None)),\n",
    "        ])),\n",
    "        ('clf', (models[model]))\n",
    "    ])\n",
    "    \n",
    "    print(model)\n",
    "    print('Accuracy: {}'.format(np.mean(cross_val_score(pipeline, t_data[:,0], t_data[:,1], n_jobs=-1))))\n",
    "    print('Accuracy: {}'.format(np.mean(cross_val_score(pipeline, c_data[:,0], c_data[:,1], n_jobs=-1))))\n",
    "    print('Accuracy: {}'.format(np.mean(cross_val_score(pipeline, f_data[:,0], f_data[:,1], n_jobs=-1))))\n",
    "    print()"
   ]
  },
  {
   "cell_type": "code",
   "execution_count": 516,
   "metadata": {},
   "outputs": [
    {
     "name": "stdout",
     "output_type": "stream",
     "text": [
      "SVM\n",
      "Accuracy: 0.7355555555555554\n",
      "Accuracy: 0.7713131313131312\n",
      "Accuracy: 0.7172727272727272\n",
      "\n",
      "Random Forest\n",
      "Accuracy: 0.7355555555555556\n",
      "Accuracy: 0.7982828282828283\n",
      "Accuracy: 0.7528282828282828\n",
      "\n",
      "Naive Bayes\n",
      "Accuracy: 0.7087878787878787\n",
      "Accuracy: 0.7668686868686867\n",
      "Accuracy: 0.7084848484848485\n",
      "\n",
      "Logistic Regression\n",
      "Accuracy: 0.7310101010101009\n",
      "Accuracy: 0.7713131313131312\n",
      "Accuracy: 0.6995959595959595\n",
      "\n"
     ]
    }
   ],
   "source": [
    "for model in models:\n",
    "    pipeline = Pipeline([\n",
    "        ('features', FeatureUnion([\n",
    "            ('ngram', TfidfVectorizer(preprocessor=answerable_preprocessor)),\n",
    "        ])),\n",
    "        ('clf', (models[model]))\n",
    "    ])\n",
    "    \n",
    "    print(model)\n",
    "    print('Accuracy: {}'.format(np.mean(cross_val_score(pipeline, t_data[:,0], t_data[:,1], n_jobs=-1))))\n",
    "    print('Accuracy: {}'.format(np.mean(cross_val_score(pipeline, c_data[:,0], c_data[:,1], n_jobs=-1))))\n",
    "    print('Accuracy: {}'.format(np.mean(cross_val_score(pipeline, f_data[:,0], f_data[:,1], n_jobs=-1))))\n",
    "    print()"
   ]
  },
  {
   "cell_type": "code",
   "execution_count": 517,
   "metadata": {},
   "outputs": [
    {
     "name": "stdout",
     "output_type": "stream",
     "text": [
      "SVM\n",
      "Accuracy: 0.757979797979798\n",
      "Accuracy: 0.7713131313131312\n",
      "Accuracy: 0.7085858585858585\n",
      "\n",
      "Random Forest\n",
      "Accuracy: 0.7668686868686869\n",
      "Accuracy: 0.775959595959596\n",
      "Accuracy: 0.7666666666666668\n",
      "\n",
      "Naive Bayes\n",
      "Accuracy: 0.8165656565656565\n",
      "Accuracy: 0.8030303030303031\n",
      "Accuracy: 0.7533333333333333\n",
      "\n",
      "Logistic Regression\n",
      "Accuracy: 0.7758585858585858\n",
      "Accuracy: 0.7806060606060606\n",
      "Accuracy: 0.7753535353535355\n",
      "\n"
     ]
    }
   ],
   "source": [
    "for model in models:\n",
    "    pipeline = Pipeline([\n",
    "        ('features', FeatureUnion([\n",
    "            ('ngram', CountVectorizer(preprocessor=None)),\n",
    "        ])),\n",
    "        ('clf', (models[model]))\n",
    "    ])\n",
    "    \n",
    "    print(model)\n",
    "    print('Accuracy: {}'.format(np.mean(cross_val_score(pipeline, t_data[:,0], t_data[:,1], n_jobs=-1))))\n",
    "    print('Accuracy: {}'.format(np.mean(cross_val_score(pipeline, c_data[:,0], c_data[:,1], n_jobs=-1))))\n",
    "    print('Accuracy: {}'.format(np.mean(cross_val_score(pipeline, f_data[:,0], f_data[:,1], n_jobs=-1))))\n",
    "    print()"
   ]
  },
  {
   "cell_type": "code",
   "execution_count": 519,
   "metadata": {},
   "outputs": [
    {
     "name": "stdout",
     "output_type": "stream",
     "text": [
      "SVM\n",
      "Accuracy: 0.757979797979798\n",
      "Accuracy: 0.7713131313131312\n",
      "Accuracy: 0.722121212121212\n",
      "\n",
      "Random Forest\n",
      "Accuracy: 0.7716161616161616\n",
      "Accuracy: 0.7848484848484849\n",
      "Accuracy: 0.7534343434343433\n",
      "\n",
      "Naive Bayes\n",
      "Accuracy: 0.8165656565656565\n",
      "Accuracy: 0.7896969696969697\n",
      "Accuracy: 0.7624242424242423\n",
      "\n",
      "Logistic Regression\n",
      "Accuracy: 0.775959595959596\n",
      "Accuracy: 0.7761616161616162\n",
      "Accuracy: 0.7576767676767676\n",
      "\n"
     ]
    }
   ],
   "source": [
    "for model in models:\n",
    "    pipeline = Pipeline([\n",
    "        ('features', FeatureUnion([\n",
    "            ('ngram', CountVectorizer(preprocessor=answerable_preprocessor)),\n",
    "        ])),\n",
    "        ('clf', (models[model]))\n",
    "    ])\n",
    "    \n",
    "    print(model)\n",
    "    print('Accuracy: {}'.format(np.mean(cross_val_score(pipeline, t_data[:,0], t_data[:,1], n_jobs=-1))))\n",
    "    print('Accuracy: {}'.format(np.mean(cross_val_score(pipeline, c_data[:,0], c_data[:,1], n_jobs=-1))))\n",
    "    print('Accuracy: {}'.format(np.mean(cross_val_score(pipeline, f_data[:,0], f_data[:,1], n_jobs=-1))))\n",
    "    print()"
   ]
  },
  {
   "cell_type": "code",
   "execution_count": 557,
   "metadata": {},
   "outputs": [
    {
     "name": "stdout",
     "output_type": "stream",
     "text": [
      "Accuracy: 0.8165656565656565\n",
      "Accuracy: 0.8361398869892784\n"
     ]
    }
   ],
   "source": [
    "t_pipeline = Pipeline([\n",
    "    ('features', FeatureUnion([\n",
    "        ('ngram', CountVectorizer(preprocessor=answerable_preprocessor)),\n",
    "    ])),\n",
    "    ('clf', (MultinomialNB()))\n",
    "])\n",
    "\n",
    "print('Accuracy: {}'.format(np.mean(cross_val_score(t_pipeline, t_data[:,0], t_data[:,1], n_jobs=-1))))\n",
    "print('Accuracy: {}'.format(np.mean(cross_val_score(t_pipeline, t_data[:,0], t_data[:,1], n_jobs=-1, scoring='roc_auc'))))"
   ]
  },
  {
   "cell_type": "code",
   "execution_count": 553,
   "metadata": {},
   "outputs": [
    {
     "name": "stdout",
     "output_type": "stream",
     "text": [
      "Accuracy: 0.8030303030303031\n",
      "Accuracy: 0.7083728036669213\n"
     ]
    }
   ],
   "source": [
    "c_pipeline = Pipeline([\n",
    "    ('features', FeatureUnion([\n",
    "        ('ngram', CountVectorizer(preprocessor=None)),\n",
    "    ])),\n",
    "    ('clf', (MultinomialNB()))\n",
    "])\n",
    "\n",
    "print('Accuracy: {}'.format(np.mean(cross_val_score(c_pipeline, c_data[:,0], c_data[:,1], n_jobs=-1))))\n",
    "print('Accuracy: {}'.format(np.mean(cross_val_score(c_pipeline, c_data[:,0], c_data[:,1], n_jobs=-1, scoring='roc_auc'))))"
   ]
  },
  {
   "cell_type": "code",
   "execution_count": null,
   "metadata": {},
   "outputs": [],
   "source": []
  },
  {
   "cell_type": "code",
   "execution_count": 558,
   "metadata": {},
   "outputs": [
    {
     "name": "stdout",
     "output_type": "stream",
     "text": [
      "Accuracy: 0.7753535353535355\n",
      "Accuracy: 0.8444733068916076\n"
     ]
    }
   ],
   "source": [
    "f_pipeline = Pipeline([\n",
    "    ('features', FeatureUnion([\n",
    "        ('ngram', CountVectorizer(preprocessor=None)),\n",
    "    ])),\n",
    "    ('clf', (LogisticRegression()))\n",
    "])\n",
    "\n",
    "print('Accuracy: {}'.format(np.mean(cross_val_score(f_pipeline, f_data[:,0], f_data[:,1], n_jobs=-1))))\n",
    "print('Accuracy: {}'.format(np.mean(cross_val_score(f_pipeline, f_data[:,0], f_data[:,1], n_jobs=-1, scoring='roc_auc'))))"
   ]
  },
  {
   "cell_type": "code",
   "execution_count": 684,
   "metadata": {},
   "outputs": [],
   "source": [
    "output_pipeline = Pipeline([\n",
    "    ('features', FeatureUnion([\n",
    "        ('tf', PipelinePredsPredictor2(t_pipeline, 't')),\n",
    "        ('cf', PipelinePredsPredictor2(c_pipeline, 'c')),\n",
    "        ('tc', PipelinePredsPredictor2(f_pipeline, 'f')),\n",
    "#         ('word', WordCountTransformer()),\n",
    "#         ('char', CharacterCountTransformer()),\n",
    "#         ('sto', StopWordFrequency(remove_stop_words))\n",
    "    ])),\n",
    "    ('clf', (LogisticRegression()))\n",
    "])"
   ]
  },
  {
   "cell_type": "code",
   "execution_count": 685,
   "metadata": {},
   "outputs": [
    {
     "name": "stdout",
     "output_type": "stream",
     "text": [
      "Accuracy: 0.664040404040404\n"
     ]
    }
   ],
   "source": [
    "print('Accuracy: {}'.format(np.mean(cross_val_score(output_pipeline, answerable_data[:,0], answerable_data[:,1], n_jobs=-1))))"
   ]
  },
  {
   "cell_type": "code",
   "execution_count": 686,
   "metadata": {},
   "outputs": [
    {
     "data": {
      "text/plain": [
       "<matplotlib.axes._subplots.AxesSubplot at 0x1a2215d350>"
      ]
     },
     "execution_count": 686,
     "metadata": {},
     "output_type": "execute_result"
    },
    {
     "data": {
      "image/png": "[encoded data removed]",
      "text/plain": [
       "<Figure size 720x504 with 2 Axes>"
      ]
     },
     "metadata": {
      "needs_background": "light"
     },
     "output_type": "display_data"
    }
   ],
   "source": [
    "y_pred = cross_val_predict(output_pipeline, answerable_data[:,0], answerable_data[:,1], cv=5)\n",
    "conf_mat = confusion_matrix(answerable_data[:,1], y_pred, labels=['t', 'f', 'c'])\n",
    "\n",
    "df_cm = pd.DataFrame(conf_mat, index = [i for i in ['t', 'f', 'c']],\n",
    "                  columns = [i for i in ['t', 'f', 'c']])\n",
    "plt.figure(figsize = (10,7))\n",
    "sn.heatmap(df_cm, annot=True)"
   ]
  },
  {
   "cell_type": "code",
   "execution_count": null,
   "metadata": {},
   "outputs": [],
   "source": []
  },
  {
   "cell_type": "code",
   "execution_count": null,
   "metadata": {},
   "outputs": [],
   "source": []
  },
  {
   "cell_type": "code",
   "execution_count": null,
   "metadata": {},
   "outputs": [],
   "source": []
  },
  {
   "cell_type": "code",
   "execution_count": null,
   "metadata": {},
   "outputs": [],
   "source": []
  },
  {
   "cell_type": "code",
   "execution_count": null,
   "metadata": {},
   "outputs": [],
   "source": []
  },
  {
   "cell_type": "code",
   "execution_count": null,
   "metadata": {},
   "outputs": [],
   "source": []
  },
  {
   "cell_type": "code",
   "execution_count": 262,
   "metadata": {},
   "outputs": [],
   "source": [
    "t_f_data = np.array([[answerable_data[:,0][i], answerable_data[:,1][i]] for i in range(len(answerable_data)) if answerable_data[:,1][i] == 't' or answerable_data[:,1][i] == 'f'])\n",
    "c_f_data = np.array([[answerable_data[:,0][i], answerable_data[:,1][i]] for i in range(len(answerable_data)) if answerable_data[:,1][i] == 'c' or answerable_data[:,1][i] == 'f'])\n",
    "t_c_data = np.array([[answerable_data[:,0][i], answerable_data[:,1][i]] for i in range(len(answerable_data)) if answerable_data[:,1][i] == 't' or answerable_data[:,1][i] == 'c'])"
   ]
  },
  {
   "cell_type": "code",
   "execution_count": 602,
   "metadata": {},
   "outputs": [
    {
     "name": "stdout",
     "output_type": "stream",
     "text": [
      "Accuracy: 0.8363025210084034\n",
      "Accuracy: 0.9015426758938869\n"
     ]
    }
   ],
   "source": [
    "t_f_pipeline = Pipeline([\n",
    "    ('features', FeatureUnion([\n",
    "        ('ngram', TfidfVectorizer(preprocessor=answerable_preprocessor)),\n",
    "    ])),\n",
    "    ('clf', (SVC(probability=True)))\n",
    "])\n",
    "\n",
    "print('Accuracy: {}'.format(np.mean(cross_val_score(t_f_pipeline, t_f_data[:,0], t_f_data[:,1], n_jobs=-1))))\n",
    "print('Accuracy: {}'.format(np.mean(cross_val_score(t_f_pipeline, t_f_data[:,0], t_f_data[:,1], n_jobs=-1, scoring='roc_auc'))))"
   ]
  },
  {
   "cell_type": "code",
   "execution_count": 560,
   "metadata": {},
   "outputs": [
    {
     "name": "stdout",
     "output_type": "stream",
     "text": [
      "Accuracy: 0.7660098522167488\n",
      "Accuracy: 0.8353119429590018\n"
     ]
    }
   ],
   "source": [
    "c_f_pipeline = Pipeline([\n",
    "    ('features', FeatureUnion([\n",
    "        ('ngram', CountVectorizer(preprocessor=None)),\n",
    "    ])),\n",
    "    ('clf', (LogisticRegression()))\n",
    "])\n",
    "\n",
    "print('Accuracy: {}'.format(np.mean(cross_val_score(c_f_pipeline, c_f_data[:,0], c_f_data[:,1], n_jobs=-1))))\n",
    "print('Accuracy: {}'.format(np.mean(cross_val_score(c_f_pipeline, c_f_data[:,0], c_f_data[:,1], n_jobs=-1, scoring='roc_auc'))))"
   ]
  },
  {
   "cell_type": "code",
   "execution_count": 561,
   "metadata": {},
   "outputs": [
    {
     "name": "stdout",
     "output_type": "stream",
     "text": [
      "Accuracy: 0.7769230769230768\n",
      "Accuracy: 0.8326737967914438\n"
     ]
    }
   ],
   "source": [
    "t_c_pipeline = Pipeline([\n",
    "    ('features', FeatureUnion([\n",
    "        ('ngram', CountVectorizer(preprocessor=answerable_preprocessor)),\n",
    "    ])),\n",
    "    ('clf', (MultinomialNB()))\n",
    "])\n",
    "\n",
    "print('Accuracy: {}'.format(np.mean(cross_val_score(t_c_pipeline, t_c_data[:,0], t_c_data[:,1], n_jobs=-1))))\n",
    "print('Accuracy: {}'.format(np.mean(cross_val_score(t_c_pipeline, t_c_data[:,0], t_c_data[:,1], n_jobs=-1, scoring='roc_auc'))))"
   ]
  },
  {
   "cell_type": "code",
   "execution_count": 584,
   "metadata": {},
   "outputs": [],
   "source": [
    "class PipelinePredsPredictor(BaseEstimator, TransformerMixin):\n",
    "    def __init__(self, pipeline):\n",
    "        self.pipeline = pipeline\n",
    "    \n",
    "    def transform(self, X, y=None):\n",
    "        return [[item] for item in self.pipeline.predict_proba(X)[:,0]]\n",
    "#         return [[self.pipeline.predict_proba(sentence)[0]] for sentence in X]\n",
    "    \n",
    "    def fit(self, X, y=None):\n",
    "        self.pipeline.fit(X, y)\n",
    "        return self"
   ]
  },
  {
   "cell_type": "code",
   "execution_count": 612,
   "metadata": {},
   "outputs": [],
   "source": [
    "class PipelinePredsPredictor2(BaseEstimator, TransformerMixin):\n",
    "    def __init__(self, pipeline, label):\n",
    "        self.pipeline = pipeline\n",
    "        self.label = label\n",
    "    \n",
    "    def transform(self, X, y=None):\n",
    "        return [[1] if item == self.label else [0] for item in self.pipeline.predict(X)]\n",
    "    \n",
    "    def fit(self, X, y=None):\n",
    "        self.pipeline.fit(X, y)\n",
    "        return self"
   ]
  },
  {
   "cell_type": "code",
   "execution_count": 393,
   "metadata": {},
   "outputs": [],
   "source": [
    "def remove_stop_words(sentence):\n",
    "    sentence = utils.check_quotations(sentence)\n",
    "    sentence = word_tokenize(sentence)\n",
    "    \n",
    "    for i in range(len(sentence)):\n",
    "#         sentence[i] = utils.check_camel_snakecase(sentence[i])\n",
    "        sentence[i] = sentence[i].lower()\n",
    "        \n",
    "        if sentence[i] in stop_words and sentence[i] not in ['who', 'what', 'when', 'where', 'why', 'how']:\n",
    "            sentence[i] = \"\"\n",
    "#         if sentence[i].isnumeric():\n",
    "#             sentence[i] = \"numericnumber\"\n",
    "#         elif utils.is_spelled_out_number(sentence[i]):\n",
    "#             sentence[i] = \"nonnumericnumber\"\n",
    "#         elif utils.is_TA_or_instructor_name(sentence[i]):\n",
    "#             sentence[i] = \"name\"\n",
    "#         elif utils.is_error_code(sentence[i]):\n",
    "#             sentence[i] = \"errorcode\"\n",
    "#         elif utils.is_system_word(sentence[i]):\n",
    "#             sentence[i] = \"sys\"\n",
    "#         elif utils.is_function(sentence[i]):\n",
    "#             sentence[i] = \"func\"\n",
    "\n",
    "    return ' '.join(sentence)"
   ]
  },
  {
   "cell_type": "code",
   "execution_count": 668,
   "metadata": {},
   "outputs": [],
   "source": [
    "output_pipeline = Pipeline([\n",
    "    ('features', FeatureUnion([\n",
    "        ('tf', PipelinePredsPredictor2(t_f_pipeline, 't')),\n",
    "        ('cf', PipelinePredsPredictor(c_f_pipeline)),\n",
    "        ('tc', PipelinePredsPredictor(t_c_pipeline)),\n",
    "#         ('word', WordCountTransformer()),\n",
    "#         ('char', CharacterCountTransformer()),\n",
    "#         ('sto', StopWordFrequency(remove_stop_words))\n",
    "    ])),\n",
    "    ('clf', (RandomForestClassifier()))\n",
    "])"
   ]
  },
  {
   "cell_type": "code",
   "execution_count": 676,
   "metadata": {},
   "outputs": [
    {
     "data": {
      "text/plain": [
       "<matplotlib.axes._subplots.AxesSubplot at 0x1a2224e450>"
      ]
     },
     "execution_count": 676,
     "metadata": {},
     "output_type": "execute_result"
    },
    {
     "data": {
      "image/png": "[encoded data removed]",
      "text/plain": [
       "<Figure size 720x504 with 2 Axes>"
      ]
     },
     "metadata": {
      "needs_background": "light"
     },
     "output_type": "display_data"
    }
   ],
   "source": [
    "y_pred = cross_val_predict(output_pipeline, answerable_data[:,0], answerable_data[:,1], cv=5)\n",
    "conf_mat = confusion_matrix(answerable_data[:,1], y_pred, labels=['t', 'f', 'c'])\n",
    "\n",
    "df_cm = pd.DataFrame(conf_mat, index = [i for i in ['t', 'f', 'c']],\n",
    "                  columns = [i for i in ['t', 'f', 'c']])\n",
    "plt.figure(figsize = (10,7))\n",
    "sn.heatmap(df_cm, annot=True)"
   ]
  },
  {
   "cell_type": "code",
   "execution_count": 670,
   "metadata": {},
   "outputs": [
    {
     "data": {
      "text/plain": [
       "Pipeline(memory=None,\n",
       "         steps=[('features',\n",
       "                 FeatureUnion(n_jobs=None,\n",
       "                              transformer_list=[('tf',\n",
       "                                                 PipelinePredsPredictor2(label='t',\n",
       "                                                                         pipeline=Pipeline(memory=None,\n",
       "                                                                                           steps=[('features',\n",
       "                                                                                                   FeatureUnion(n_jobs=None,\n",
       "                                                                                                                transformer_list=[('ngram',\n",
       "                                                                                                                                   TfidfVectorizer(analyzer='word',\n",
       "                                                                                                                                                   binary=False,\n",
       "                                                                                                                                                   decode_error='strict',\n",
       "                                                                                                                                                   dtype=<class 'numpy.float64'>,\n",
       "                                                                                                                                                   encoding='utf-8',\n",
       "                                                                                                                                                   input='conten...\n",
       "                 RandomForestClassifier(bootstrap=True, ccp_alpha=0.0,\n",
       "                                        class_weight=None, criterion='gini',\n",
       "                                        max_depth=None, max_features='auto',\n",
       "                                        max_leaf_nodes=None, max_samples=None,\n",
       "                                        min_impurity_decrease=0.0,\n",
       "                                        min_impurity_split=None,\n",
       "                                        min_samples_leaf=1, min_samples_split=2,\n",
       "                                        min_weight_fraction_leaf=0.0,\n",
       "                                        n_estimators=100, n_jobs=None,\n",
       "                                        oob_score=False, random_state=None,\n",
       "                                        verbose=0, warm_start=False))],\n",
       "         verbose=False)"
      ]
     },
     "execution_count": 670,
     "metadata": {},
     "output_type": "execute_result"
    }
   ],
   "source": [
    "output_pipeline.fit(answerable_data[:,0], answerable_data[:,1])"
   ]
  },
  {
   "cell_type": "code",
   "execution_count": 675,
   "metadata": {},
   "outputs": [
    {
     "data": {
      "text/plain": [
       "array(['c'], dtype='<U517')"
      ]
     },
     "execution_count": 675,
     "metadata": {},
     "output_type": "execute_result"
    }
   ],
   "source": [
    "output_pipeline.predict([\"I'm extremely confused with what's going on with the seg fault\"])"
   ]
  },
  {
   "cell_type": "code",
   "execution_count": 669,
   "metadata": {},
   "outputs": [
    {
     "name": "stdout",
     "output_type": "stream",
     "text": [
      "Accuracy: 0.7223232323232323\n"
     ]
    }
   ],
   "source": [
    "print('Accuracy: {}'.format(np.mean(cross_val_score(output_pipeline, answerable_data[:,0], answerable_data[:,1], n_jobs=-1))))"
   ]
  },
  {
   "cell_type": "code",
   "execution_count": 600,
   "metadata": {},
   "outputs": [
    {
     "data": {
      "text/plain": [
       "[[0],\n",
       " [1],\n",
       " [1],\n",
       " [0],\n",
       " [1],\n",
       " [1],\n",
       " [1],\n",
       " [0],\n",
       " [0],\n",
       " [0],\n",
       " [1],\n",
       " [0],\n",
       " [0],\n",
       " [1],\n",
       " [0],\n",
       " [0],\n",
       " [0],\n",
       " [0],\n",
       " [0],\n",
       " [0],\n",
       " [0],\n",
       " [1],\n",
       " [0],\n",
       " [0],\n",
       " [0],\n",
       " [0],\n",
       " [1],\n",
       " [1],\n",
       " [1],\n",
       " [1],\n",
       " [0],\n",
       " [0],\n",
       " [1],\n",
       " [0],\n",
       " [0],\n",
       " [1],\n",
       " [1],\n",
       " [1],\n",
       " [1],\n",
       " [1],\n",
       " [0],\n",
       " [1],\n",
       " [0],\n",
       " [1],\n",
       " [0],\n",
       " [0],\n",
       " [0],\n",
       " [0],\n",
       " [1],\n",
       " [1],\n",
       " [1],\n",
       " [0],\n",
       " [0],\n",
       " [1],\n",
       " [1],\n",
       " [0],\n",
       " [0],\n",
       " [1],\n",
       " [0],\n",
       " [0],\n",
       " [0],\n",
       " [1],\n",
       " [1],\n",
       " [0],\n",
       " [0],\n",
       " [0],\n",
       " [1],\n",
       " [0],\n",
       " [0],\n",
       " [0],\n",
       " [1],\n",
       " [0],\n",
       " [1],\n",
       " [1],\n",
       " [1],\n",
       " [1],\n",
       " [1],\n",
       " [0],\n",
       " [1],\n",
       " [1],\n",
       " [1],\n",
       " [1],\n",
       " [1],\n",
       " [0],\n",
       " [0],\n",
       " [1],\n",
       " [0],\n",
       " [1],\n",
       " [0],\n",
       " [0],\n",
       " [0],\n",
       " [1],\n",
       " [1],\n",
       " [1],\n",
       " [0],\n",
       " [1],\n",
       " [1],\n",
       " [0],\n",
       " [0],\n",
       " [0],\n",
       " [0],\n",
       " [1],\n",
       " [0],\n",
       " [0],\n",
       " [1],\n",
       " [1],\n",
       " [1],\n",
       " [1],\n",
       " [0],\n",
       " [0],\n",
       " [1],\n",
       " [1],\n",
       " [0],\n",
       " [0],\n",
       " [1],\n",
       " [1],\n",
       " [1],\n",
       " [1],\n",
       " [0],\n",
       " [0],\n",
       " [0],\n",
       " [0],\n",
       " [1],\n",
       " [0],\n",
       " [0],\n",
       " [1],\n",
       " [0],\n",
       " [1],\n",
       " [1],\n",
       " [1],\n",
       " [1],\n",
       " [0],\n",
       " [0],\n",
       " [0],\n",
       " [0],\n",
       " [0],\n",
       " [1],\n",
       " [0],\n",
       " [1],\n",
       " [1],\n",
       " [1],\n",
       " [1],\n",
       " [1],\n",
       " [0],\n",
       " [1],\n",
       " [0],\n",
       " [1],\n",
       " [1],\n",
       " [0],\n",
       " [1],\n",
       " [1],\n",
       " [0],\n",
       " [0],\n",
       " [0],\n",
       " [0],\n",
       " [1],\n",
       " [0],\n",
       " [0],\n",
       " [0],\n",
       " [1],\n",
       " [0],\n",
       " [0],\n",
       " [1],\n",
       " [1],\n",
       " [0],\n",
       " [0],\n",
       " [1],\n",
       " [1],\n",
       " [1],\n",
       " [0],\n",
       " [1],\n",
       " [0],\n",
       " [1],\n",
       " [1],\n",
       " [1],\n",
       " [0],\n",
       " [1],\n",
       " [0],\n",
       " [0],\n",
       " [1],\n",
       " [1],\n",
       " [1],\n",
       " [1],\n",
       " [1],\n",
       " [0],\n",
       " [0],\n",
       " [1],\n",
       " [0],\n",
       " [1],\n",
       " [0],\n",
       " [1],\n",
       " [0],\n",
       " [1],\n",
       " [0],\n",
       " [1],\n",
       " [0],\n",
       " [0],\n",
       " [0],\n",
       " [0],\n",
       " [1],\n",
       " [0],\n",
       " [1],\n",
       " [1],\n",
       " [0],\n",
       " [0],\n",
       " [0],\n",
       " [1],\n",
       " [0],\n",
       " [0],\n",
       " [0],\n",
       " [0],\n",
       " [0],\n",
       " [0],\n",
       " [0],\n",
       " [0],\n",
       " [1],\n",
       " [0],\n",
       " [0],\n",
       " [0],\n",
       " [1],\n",
       " [0],\n",
       " [0],\n",
       " [1]]"
      ]
     },
     "execution_count": 600,
     "metadata": {},
     "output_type": "execute_result"
    }
   ],
   "source": [
    "one = PipelinePredsPredictor2(t_f_pipeline).fit(t_f_data[:,0], t_f_data[:,1])\n",
    "one.transform(answerable_data[:,0])"
   ]
  },
  {
   "cell_type": "code",
   "execution_count": 601,
   "metadata": {},
   "outputs": [
    {
     "data": {
      "text/plain": [
       "array(['f', 't', 'c', 'f', 't', 't', 't', 'c', 'f', 'f', 't', 'c', 'c',\n",
       "       'c', 'f', 'f', 'f', 'f', 'c', 'f', 'c', 't', 'c', 'f', 'f', 'f',\n",
       "       't', 't', 't', 't', 'f', 'f', 't', 'c', 'c', 't', 't', 't', 't',\n",
       "       't', 'f', 't', 'c', 't', 'f', 'f', 'f', 'f', 't', 't', 't', 'f',\n",
       "       'f', 't', 't', 'c', 'f', 't', 'f', 'f', 'c', 't', 'c', 'f', 'f',\n",
       "       'f', 't', 'f', 'f', 'f', 'c', 'c', 't', 't', 't', 'c', 't', 'f',\n",
       "       't', 'c', 't', 't', 't', 'f', 'f', 'c', 'c', 't', 'f', 'c', 'c',\n",
       "       'c', 't', 't', 'f', 't', 'c', 'f', 'c', 'c', 'c', 't', 'f', 'f',\n",
       "       't', 'c', 'c', 't', 'f', 'f', 't', 'c', 'f', 'c', 'c', 'c', 't',\n",
       "       'c', 'f', 'f', 'f', 'f', 't', 'c', 'f', 'c', 'f', 't', 'c', 't',\n",
       "       't', 'f', 'f', 'c', 'f', 'f', 't', 'f', 't', 't', 'c', 't', 't',\n",
       "       'f', 'c', 'f', 't', 't', 'c', 't', 't', 'f', 'f', 'c', 'f', 'c',\n",
       "       'f', 'f', 'f', 't', 'f', 'f', 'c', 't', 'f', 'f', 't', 't', 't',\n",
       "       'f', 't', 'f', 't', 't', 't', 'f', 't', 'f', 'f', 't', 't', 't',\n",
       "       't', 't', 'f', 'f', 't', 'f', 't', 'f', 't', 'c', 't', 'f', 't',\n",
       "       'f', 'f', 'f', 'f', 't', 'f', 't', 't', 'c', 'c', 'f', 't', 'c',\n",
       "       'c', 'f', 'c', 'f', 'f', 'c', 'f', 'c', 'f', 'f', 'f', 't', 'f',\n",
       "       'f', 't'], dtype='<U517')"
      ]
     },
     "execution_count": 601,
     "metadata": {},
     "output_type": "execute_result"
    }
   ],
   "source": [
    "answerable_data[:,1]"
   ]
  },
  {
   "cell_type": "code",
   "execution_count": 514,
   "metadata": {},
   "outputs": [],
   "source": [
    "models = {'SVM': SVC(), 'Random Forest': RandomForestClassifier(), 'Naive Bayes': MultinomialNB(), 'Logistic Regression': LogisticRegression()}"
   ]
  },
  {
   "cell_type": "code",
   "execution_count": 284,
   "metadata": {},
   "outputs": [
    {
     "name": "stdout",
     "output_type": "stream",
     "text": [
      "SVM\n",
      "Accuracy: 0.6943019943019942\n",
      "\n",
      "Random Forest\n",
      "Accuracy: 0.7396011396011397\n",
      "\n",
      "Naive Bayes\n",
      "Accuracy: 0.7014245014245015\n",
      "\n",
      "Logistic Regression\n",
      "Accuracy: 0.7085470085470085\n",
      "\n"
     ]
    }
   ],
   "source": [
    "for model in models:\n",
    "    pipeline = Pipeline([\n",
    "        ('features', FeatureUnion([\n",
    "            ('ngram', TfidfVectorizer(preprocessor=None)),\n",
    "        ])),\n",
    "        ('clf', (models[model]))\n",
    "    ])\n",
    "    \n",
    "    print(model)\n",
    "#     print('Accuracy: {}'.format(np.mean(cross_val_score(pipeline, t_f_data[:,0], t_f_data[:,1], n_jobs=-1))))\n",
    "#     print('Accuracy: {}'.format(np.mean(cross_val_score(pipeline, c_f_data[:,0], c_f_data[:,1], n_jobs=-1))))\n",
    "    print('Accuracy: {}'.format(np.mean(cross_val_score(pipeline, t_c_data[:,0], t_c_data[:,1], n_jobs=-1))))\n",
    "    print()"
   ]
  },
  {
   "cell_type": "code",
   "execution_count": 285,
   "metadata": {},
   "outputs": [
    {
     "name": "stdout",
     "output_type": "stream",
     "text": [
      "SVM\n",
      "Accuracy: 0.7017094017094017\n",
      "\n",
      "Random Forest\n",
      "Accuracy: 0.7692307692307692\n",
      "\n",
      "Naive Bayes\n",
      "Accuracy: 0.7242165242165242\n",
      "\n",
      "Logistic Regression\n",
      "Accuracy: 0.7091168091168092\n",
      "\n"
     ]
    }
   ],
   "source": [
    "for model in models:\n",
    "    pipeline = Pipeline([\n",
    "        ('features', FeatureUnion([\n",
    "            ('ngram', TfidfVectorizer(preprocessor=answerable_preprocessor)),\n",
    "        ])),\n",
    "        ('clf', (models[model]))\n",
    "    ])\n",
    "    \n",
    "    print(model)\n",
    "#     print('Accuracy: {}'.format(np.mean(cross_val_score(pipeline, t_f_data[:,0], t_f_data[:,1], n_jobs=-1))))\n",
    "#     print('Accuracy: {}'.format(np.mean(cross_val_score(pipeline, c_f_data[:,0], c_f_data[:,1], n_jobs=-1))))\n",
    "    print('Accuracy: {}'.format(np.mean(cross_val_score(pipeline, t_c_data[:,0], t_c_data[:,1], n_jobs=-1))))\n",
    "    print()"
   ]
  },
  {
   "cell_type": "code",
   "execution_count": 286,
   "metadata": {},
   "outputs": [
    {
     "name": "stdout",
     "output_type": "stream",
     "text": [
      "SVM\n",
      "Accuracy: 0.7091168091168092\n",
      "\n",
      "Random Forest\n",
      "Accuracy: 0.7544159544159543\n",
      "\n",
      "Naive Bayes\n",
      "Accuracy: 0.7695156695156695\n",
      "\n",
      "Logistic Regression\n",
      "Accuracy: 0.7618233618233619\n",
      "\n"
     ]
    }
   ],
   "source": [
    "for model in models:\n",
    "    pipeline = Pipeline([\n",
    "        ('features', FeatureUnion([\n",
    "            ('ngram', CountVectorizer(preprocessor=None)),\n",
    "        ])),\n",
    "        ('clf', (models[model]))\n",
    "    ])\n",
    "    \n",
    "    print(model)\n",
    "#     print('Accuracy: {}'.format(np.mean(cross_val_score(pipeline, t_f_data[:,0], t_f_data[:,1], n_jobs=-1))))\n",
    "#     print('Accuracy: {}'.format(np.mean(cross_val_score(pipeline, c_f_data[:,0], c_f_data[:,1], n_jobs=-1))))\n",
    "    print('Accuracy: {}'.format(np.mean(cross_val_score(pipeline, t_c_data[:,0], t_c_data[:,1], n_jobs=-1))))\n",
    "    print()"
   ]
  },
  {
   "cell_type": "code",
   "execution_count": 287,
   "metadata": {},
   "outputs": [
    {
     "name": "stdout",
     "output_type": "stream",
     "text": [
      "SVM\n",
      "Accuracy: 0.6943019943019944\n",
      "\n",
      "Random Forest\n",
      "Accuracy: 0.7615384615384615\n",
      "\n",
      "Naive Bayes\n",
      "Accuracy: 0.7769230769230768\n",
      "\n",
      "Logistic Regression\n",
      "Accuracy: 0.7621082621082621\n",
      "\n"
     ]
    }
   ],
   "source": [
    "for model in models:\n",
    "    pipeline = Pipeline([\n",
    "        ('features', FeatureUnion([\n",
    "            ('ngram', CountVectorizer(preprocessor=answerable_preprocessor)),\n",
    "        ])),\n",
    "        ('clf', (models[model]))\n",
    "    ])\n",
    "    \n",
    "    print(model)\n",
    "#     print('Accuracy: {}'.format(np.mean(cross_val_score(pipeline, t_f_data[:,0], t_f_data[:,1], n_jobs=-1))))\n",
    "#     print('Accuracy: {}'.format(np.mean(cross_val_score(pipeline, c_f_data[:,0], c_f_data[:,1], n_jobs=-1))))\n",
    "    print('Accuracy: {}'.format(np.mean(cross_val_score(pipeline, t_c_data[:,0], t_c_data[:,1], n_jobs=-1))))\n",
    "    print()"
   ]
  },
  {
   "cell_type": "code",
   "execution_count": null,
   "metadata": {},
   "outputs": [],
   "source": []
  },
  {
   "cell_type": "code",
   "execution_count": null,
   "metadata": {},
   "outputs": [],
   "source": []
  },
  {
   "cell_type": "code",
   "execution_count": null,
   "metadata": {},
   "outputs": [],
   "source": []
  },
  {
   "cell_type": "code",
   "execution_count": null,
   "metadata": {},
   "outputs": [],
   "source": []
  }
 ],
 "metadata": {
  "kernelspec": {
   "display_name": "Python 3",
   "language": "python",
   "name": "python3"
  },
  "language_info": {
   "codemirror_mode": {
    "name": "ipython",
    "version": 3
   },
   "file_extension": ".py",
   "mimetype": "text/x-python",
   "name": "python",
   "nbconvert_exporter": "python",
   "pygments_lexer": "ipython3",
   "version": "3.7.6"
  }
 },
 "nbformat": 4,
 "nbformat_minor": 4
}
