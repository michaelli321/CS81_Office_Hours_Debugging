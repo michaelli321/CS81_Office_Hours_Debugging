{
 "cells": [
  {
   "cell_type": "code",
   "execution_count": 39,
   "metadata": {},
   "outputs": [],
   "source": [
    "import numpy as np\n",
    "import sys\n",
    "import os\n",
    "sys.path.insert(0, os.path.normpath(os.getcwd() + os.sep + os.pardir))\n",
    "import utils\n",
    "import re\n",
    "import json\n",
    "import question_funcs\n",
    "import pandas as pd"
   ]
  },
  {
   "cell_type": "code",
   "execution_count": 3,
   "metadata": {},
   "outputs": [],
   "source": [
    "def filter_dataset(filename):\n",
    "    questions = list(set(pd.read_json(filename, lines=True)[\"question\"]))\n",
    "    questions.sort(key=lambda x: len(x), reverse=True)\n",
    "    \n",
    "    filtered = set()\n",
    "    \n",
    "    for question in questions:\n",
    "        if not any([question in filtered_question for filtered_question in filtered]):\n",
    "            filtered.add(question)\n",
    "    \n",
    "    return filtered\n",
    "\n",
    "def get_questions(filename):\n",
    "    questions = None\n",
    "    \n",
    "    with open(filename, 'r') as f:\n",
    "        questions = {eval(data_point)['question'] for data_point in f.read().splitlines()}\n",
    "\n",
    "    return questions\n",
    "\n",
    "def load_data(filename):\n",
    "    data = None\n",
    "    \n",
    "    with open(filename, 'r') as f:\n",
    "        data = [eval(data_point) for data_point in f.read().splitlines()]\n",
    "\n",
    "    return data\n"
   ]
  },
  {
   "cell_type": "code",
   "execution_count": 33,
   "metadata": {},
   "outputs": [],
   "source": [
    "orig_questions = load_data('../data/questions.json')\n",
    "new_questions = load_data('../data/aqfiltered.json')\n",
    "res = load_data('../data/questions.json')"
   ]
  },
  {
   "cell_type": "code",
   "execution_count": 34,
   "metadata": {},
   "outputs": [],
   "source": [
    "for i in range(len(new_questions)):\n",
    "    cp = 0\n",
    "    \n",
    "    for j in range(len(orig_questions)):\n",
    "        if new_questions[i]['question'] == orig_questions[j]['question']:\n",
    "            cp = 1\n",
    "            \n",
    "            if 'answerable' in new_questions[i]:\n",
    "                res[j]['answerable'] = new_questions[i]['answerable']\n",
    "                break\n",
    "    \n",
    "    if cp == 0:\n",
    "        res.append(new_questions[i])"
   ]
  },
  {
   "cell_type": "code",
   "execution_count": 35,
   "metadata": {},
   "outputs": [
    {
     "data": {
      "text/plain": [
       "5659"
      ]
     },
     "execution_count": 35,
     "metadata": {},
     "output_type": "execute_result"
    }
   ],
   "source": [
    "len(res)"
   ]
  },
  {
   "cell_type": "code",
   "execution_count": 40,
   "metadata": {},
   "outputs": [],
   "source": [
    "with open('../data/tot.json', 'w') as fout:\n",
    "    for dic in res:\n",
    "        json.dump(dic, fout)\n",
    "        fout.write(\"\\n\")"
   ]
  },
  {
   "cell_type": "code",
   "execution_count": 30,
   "metadata": {},
   "outputs": [
    {
     "data": {
      "text/plain": [
       "3067"
      ]
     },
     "execution_count": 30,
     "metadata": {},
     "output_type": "execute_result"
    }
   ],
   "source": [
    "cnt = 0\n",
    "for i in range(len(res)):\n",
    "    for j in range(i+1, len(res)):\n",
    "        if res[i]['question'] == res[j]['question']:\n",
    "            cnt += 1\n",
    "            \n",
    "cnt"
   ]
  },
  {
   "cell_type": "code",
   "execution_count": 22,
   "metadata": {},
   "outputs": [],
   "source": [
    "x =filter_dataset('../data/x_updated')"
   ]
  },
  {
   "cell_type": "code",
   "execution_count": 36,
   "metadata": {},
   "outputs": [
    {
     "data": {
      "text/plain": [
       "5778"
      ]
     },
     "execution_count": 36,
     "metadata": {},
     "output_type": "execute_result"
    }
   ],
   "source": [
    "len(x)"
   ]
  },
  {
   "cell_type": "code",
   "execution_count": 24,
   "metadata": {},
   "outputs": [
    {
     "data": {
      "text/plain": [
       "5074"
      ]
     },
     "execution_count": 24,
     "metadata": {},
     "output_type": "execute_result"
    }
   ],
   "source": [
    "len(orig_questions)"
   ]
  },
  {
   "cell_type": "code",
   "execution_count": 25,
   "metadata": {},
   "outputs": [
    {
     "data": {
      "text/plain": [
       "3865"
      ]
     },
     "execution_count": 25,
     "metadata": {},
     "output_type": "execute_result"
    }
   ],
   "source": [
    "len(new_questions)"
   ]
  },
  {
   "cell_type": "code",
   "execution_count": 26,
   "metadata": {},
   "outputs": [
    {
     "data": {
      "text/plain": [
       "8939"
      ]
     },
     "execution_count": 26,
     "metadata": {},
     "output_type": "execute_result"
    }
   ],
   "source": [
    "5074+3865"
   ]
  },
  {
   "cell_type": "code",
   "execution_count": 31,
   "metadata": {},
   "outputs": [
    {
     "data": {
      "text/plain": [
       "5659"
      ]
     },
     "execution_count": 31,
     "metadata": {},
     "output_type": "execute_result"
    }
   ],
   "source": [
    "8726-3067"
   ]
  },
  {
   "cell_type": "code",
   "execution_count": null,
   "metadata": {},
   "outputs": [],
   "source": []
  }
 ],
 "metadata": {
  "kernelspec": {
   "display_name": "Python 3",
   "language": "python",
   "name": "python3"
  },
  "language_info": {
   "codemirror_mode": {
    "name": "ipython",
    "version": 3
   },
   "file_extension": ".py",
   "mimetype": "text/x-python",
   "name": "python",
   "nbconvert_exporter": "python",
   "pygments_lexer": "ipython3",
   "version": "3.7.6"
  }
 },
 "nbformat": 4,
 "nbformat_minor": 4
}
