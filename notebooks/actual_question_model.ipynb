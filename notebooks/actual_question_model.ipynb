{
 "cells": [
  {
   "cell_type": "code",
   "execution_count": 21,
   "metadata": {},
   "outputs": [],
   "source": [
    "from sklearn.model_selection import train_test_split, cross_val_score\n",
    "from sklearn.feature_extraction.text import CountVectorizer\n",
    "import numpy as np\n",
    "from sklearn.ensemble import RandomForestClassifier\n",
    "from nltk.tokenize import RegexpTokenizer\n",
    "from sklearn.feature_extraction.text import TfidfVectorizer\n",
    "from word2number import w2n\n",
    "from sklearn.metrics import f1_score, multilabel_confusion_matrix\n",
    "from nltk.corpus import stopwords\n",
    "from nltk.stem import WordNetLemmatizer\n",
    "import pickle"
   ]
  },
  {
   "cell_type": "code",
   "execution_count": 91,
   "metadata": {},
   "outputs": [],
   "source": [
    "def load_data(filename, label_name):\n",
    "    with open(filename, 'r') as f:\n",
    "        return np.array([[eval(data_point)['question'], eval(data_point)[label_name]] for data_point in f.read().splitlines() if label_name in eval(data_point)])\n",
    "\n",
    "def is_TA_or_instructor_name(text):\n",
    "    names = {\"adam\", \"victor\", \"jesse\", \"peter\"}\n",
    "    \n",
    "    if text in names:\n",
    "        return True\n",
    "    else:\n",
    "        return False\n",
    "    \n",
    "def is_spelled_out_number(text):\n",
    "    try:\n",
    "        w2n.word_to_num(text)\n",
    "        return True\n",
    "    except ValueError:\n",
    "        return False\n",
    "    \n",
    "def is_function(text): # change to regex\n",
    "    if '()' in text:\n",
    "        return True\n",
    "    else:\n",
    "        return False\n",
    "\n",
    "def is_snake_case(text): # change to regex\n",
    "    if '_' in text:\n",
    "        return True\n",
    "    else:\n",
    "        return False\n",
    "\n",
    "def is_filename(text):\n",
    "    if '.c' in text or '.py' in text:\n",
    "        return True\n",
    "    else:\n",
    "        return False\n",
    "    \n",
    "def preprocess_sentence(sentence):\n",
    "    tokenizer = RegexpTokenizer(\"[^;\\s.?,!()]+\\.c|[^;\\s.,?!()]+\\.py|[^;\\s.?!(),]+\\(\\)|[^;\\s.?,!()]+\")\n",
    "    sentence = tokenizer.tokenize(sentence.lower())\n",
    "    \n",
    "    for i in range(len(sentence)):\n",
    "        if sentence[i].isnumeric():\n",
    "            sentence[i] = \"numericnumber\"\n",
    "        elif is_spelled_out_number(sentence[i]):\n",
    "            sentence[i] = \"nonnumericnumber\"\n",
    "#         elif is_function(sentence[i]):\n",
    "#             sentence[i] = \"function\"\n",
    "        elif is_filename(sentence[i]):\n",
    "            sentence[i] = \"filename\"\n",
    "#         elif is_snake_case(sentence[i]):\n",
    "#             sentence[i] = \"snakecase\"\n",
    "        elif is_TA_or_instructor_name(sentence[i]):\n",
    "            sentence[i] = \"name\"\n",
    "        \n",
    "    \n",
    "    return ' '.join(sentence)\n",
    "\n",
    "    \n",
    "def preprocess_data(x_data, vectorizer=None):\n",
    "    sentence_lens = [[len(sentence.split())] for sentence in x_data]\n",
    "    X = None\n",
    "\n",
    "    if vectorizer:\n",
    "        X = vectorizer.transform(x_data)\n",
    "    else:\n",
    "        vectorizer = CountVectorizer(preprocessor=preprocess_sentence)\n",
    "#         vectorizer = TfidfVectorizer(preprocessor=preprocess_sentence)\n",
    "        X = vectorizer.fit_transform(x_data)\n",
    "        \n",
    "    X = np.hstack((X.toarray(), sentence_lens))\n",
    "    \n",
    "    return X, vectorizer"
   ]
  },
  {
   "cell_type": "code",
   "execution_count": 166,
   "metadata": {},
   "outputs": [
    {
     "name": "stdout",
     "output_type": "stream",
     "text": [
      "Training Error: 1.0\n",
      "Test Error: 0.9577464788732394\n"
     ]
    }
   ],
   "source": [
    "actual_question_data = load_data('../data/questions.json', 'actual_question')\n",
    "\n",
    "train_data, test_data = train_test_split(actual_question_data)\n",
    "X, vectorizer = preprocess_data(train_data[:,0])\n",
    "y = train_data[:,1]\n",
    "clf = RandomForestClassifier()\n",
    "clf.fit(X, y)\n",
    "\n",
    "X_test, _ = preprocess_data(test_data[:,0], vectorizer)\n",
    "y_test = test_data[:,1]\n",
    "y_preds = clf.predict(X_test)\n",
    "# print(\"Cross Val Score: {}\".format(cross_val_score(clf, X_test, y_test).mean()))\n",
    "print(\"Training Error: {}\".format(sum(clf.predict(X) == y) / len(y)))\n",
    "print(\"Test Error: {}\".format(sum(y_preds == y_test) / len(y_preds)))\n"
   ]
  },
  {
   "cell_type": "code",
   "execution_count": 167,
   "metadata": {},
   "outputs": [
    {
     "name": "stdout",
     "output_type": "stream",
     "text": [
      "Question: LRU conceptual asdfafsdaf, Prediction: 0.4, Actual: t\n",
      "Question: TrieMap Movie Autocompleter, Prediction: 0.4, Actual: t\n",
      "Question: Help with sigsegv_handler , Prediction: 0.28, Actual: t\n"
     ]
    }
   ],
   "source": [
    "for i in range(len(y_preds)):\n",
    "    if y_preds[i] != y_test[i]:\n",
    "        print(\"Question: {}, Prediction: {}, Actual: {}\".format(test_data[:,0][i], clf.predict_proba([X_test[i]])[0][1], y_test[i]))"
   ]
  },
  {
   "cell_type": "code",
   "execution_count": 168,
   "metadata": {},
   "outputs": [],
   "source": [
    "pickle.dump((clf, vectorizer), open('../models/actual_question_clf.pkl', 'wb'))"
   ]
  },
  {
   "cell_type": "code",
   "execution_count": 169,
   "metadata": {},
   "outputs": [],
   "source": [
    "def actual_question_prob(question):\n",
    "    clf, vectorizer = pickle.load(open('../models/actual_question_clf.pkl', 'rb'))\n",
    "    question, _ = preprocess_data([question], vectorizer)\n",
    "    return clf.predict_proba(question)[0][1]"
   ]
  },
  {
   "cell_type": "code",
   "execution_count": 177,
   "metadata": {},
   "outputs": [
    {
     "name": "stdout",
     "output_type": "stream",
     "text": [
      "['f' 't']\n",
      "[[[54  3]\n",
      "  [ 0 14]]\n",
      "\n",
      " [[14  0]\n",
      "  [ 3 54]]]\n"
     ]
    }
   ],
   "source": [
    "print(clf.classes_)\n",
    "print(multilabel_confusion_matrix(y_test, y_preds))"
   ]
  },
  {
   "cell_type": "code",
   "execution_count": null,
   "metadata": {},
   "outputs": [],
   "source": []
  }
 ],
 "metadata": {
  "kernelspec": {
   "display_name": "Python 3",
   "language": "python",
   "name": "python3"
  },
  "language_info": {
   "codemirror_mode": {
    "name": "ipython",
    "version": 3
   },
   "file_extension": ".py",
   "mimetype": "text/x-python",
   "name": "python",
   "nbconvert_exporter": "python",
   "pygments_lexer": "ipython3",
   "version": "3.7.6"
  }
 },
 "nbformat": 4,
 "nbformat_minor": 4
}
